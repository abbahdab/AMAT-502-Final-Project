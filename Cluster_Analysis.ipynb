{
 "cells": [
  {
   "cell_type": "code",
   "execution_count": 2,
   "metadata": {},
   "outputs": [],
   "source": [
    "import numpy as np\n",
    "import pandas as pd\n",
    "import matplotlib.pyplot as plt\n",
    "from sklearn.cluster import KMeans \n",
    "from sklearn import metrics\n",
    "from sklearn.model_selection import train_test_split"
   ]
  },
  {
   "cell_type": "markdown",
   "metadata": {},
   "source": [
    "# 1 Prepare Data"
   ]
  },
  {
   "cell_type": "code",
   "execution_count": 5,
   "metadata": {},
   "outputs": [],
   "source": [
    "data = pd.read_csv('data/Crime_Data_2010_2017_clean.csv')"
   ]
  },
  {
   "cell_type": "code",
   "execution_count": 6,
   "metadata": {},
   "outputs": [
    {
     "data": {
      "text/plain": [
       "Index(['Unnamed: 0', 'DR Number', 'Month', 'Day', 'Year', 'Time Occurred',\n",
       "       'Area ID', 'Reporting District', 'Crime Code', 'Victim Age',\n",
       "       'Victim Sex', 'Victim Descent', 'Premise Code', 'Weapon Used Code',\n",
       "       'Longitude', 'Latitude'],\n",
       "      dtype='object')"
      ]
     },
     "execution_count": 6,
     "metadata": {},
     "output_type": "execute_result"
    }
   ],
   "source": [
    "data.columns"
   ]
  },
  {
   "cell_type": "code",
   "execution_count": 7,
   "metadata": {},
   "outputs": [
    {
     "data": {
      "text/html": [
       "<div>\n",
       "<style scoped>\n",
       "    .dataframe tbody tr th:only-of-type {\n",
       "        vertical-align: middle;\n",
       "    }\n",
       "\n",
       "    .dataframe tbody tr th {\n",
       "        vertical-align: top;\n",
       "    }\n",
       "\n",
       "    .dataframe thead th {\n",
       "        text-align: right;\n",
       "    }\n",
       "</style>\n",
       "<table border=\"1\" class=\"dataframe\">\n",
       "  <thead>\n",
       "    <tr style=\"text-align: right;\">\n",
       "      <th></th>\n",
       "      <th>Month</th>\n",
       "      <th>Day</th>\n",
       "      <th>Year</th>\n",
       "      <th>Time Occurred</th>\n",
       "      <th>Area ID</th>\n",
       "      <th>Reporting District</th>\n",
       "      <th>Crime Code</th>\n",
       "      <th>Victim Age</th>\n",
       "      <th>Victim Sex</th>\n",
       "      <th>Victim Descent</th>\n",
       "      <th>Premise Code</th>\n",
       "      <th>Weapon Used Code</th>\n",
       "      <th>Longitude</th>\n",
       "      <th>Latitude</th>\n",
       "    </tr>\n",
       "  </thead>\n",
       "  <tbody>\n",
       "    <tr>\n",
       "      <th>0</th>\n",
       "      <td>3</td>\n",
       "      <td>11</td>\n",
       "      <td>2013</td>\n",
       "      <td>1800</td>\n",
       "      <td>12</td>\n",
       "      <td>1241</td>\n",
       "      <td>626</td>\n",
       "      <td>30.0</td>\n",
       "      <td>1</td>\n",
       "      <td>17</td>\n",
       "      <td>502.0</td>\n",
       "      <td>400.0</td>\n",
       "      <td>33.9829</td>\n",
       "      <td>-118.3338</td>\n",
       "    </tr>\n",
       "    <tr>\n",
       "      <th>1</th>\n",
       "      <td>1</td>\n",
       "      <td>22</td>\n",
       "      <td>2010</td>\n",
       "      <td>2300</td>\n",
       "      <td>20</td>\n",
       "      <td>2071</td>\n",
       "      <td>510</td>\n",
       "      <td>NaN</td>\n",
       "      <td>2</td>\n",
       "      <td>0</td>\n",
       "      <td>101.0</td>\n",
       "      <td>NaN</td>\n",
       "      <td>34.0454</td>\n",
       "      <td>-118.3157</td>\n",
       "    </tr>\n",
       "    <tr>\n",
       "      <th>2</th>\n",
       "      <td>3</td>\n",
       "      <td>18</td>\n",
       "      <td>2013</td>\n",
       "      <td>2030</td>\n",
       "      <td>18</td>\n",
       "      <td>1823</td>\n",
       "      <td>510</td>\n",
       "      <td>12.0</td>\n",
       "      <td>2</td>\n",
       "      <td>0</td>\n",
       "      <td>101.0</td>\n",
       "      <td>NaN</td>\n",
       "      <td>33.9420</td>\n",
       "      <td>-118.2717</td>\n",
       "    </tr>\n",
       "    <tr>\n",
       "      <th>3</th>\n",
       "      <td>11</td>\n",
       "      <td>10</td>\n",
       "      <td>2010</td>\n",
       "      <td>1800</td>\n",
       "      <td>18</td>\n",
       "      <td>1803</td>\n",
       "      <td>510</td>\n",
       "      <td>NaN</td>\n",
       "      <td>2</td>\n",
       "      <td>0</td>\n",
       "      <td>101.0</td>\n",
       "      <td>NaN</td>\n",
       "      <td>33.9572</td>\n",
       "      <td>-118.2717</td>\n",
       "    </tr>\n",
       "    <tr>\n",
       "      <th>4</th>\n",
       "      <td>1</td>\n",
       "      <td>4</td>\n",
       "      <td>2014</td>\n",
       "      <td>2300</td>\n",
       "      <td>21</td>\n",
       "      <td>2133</td>\n",
       "      <td>745</td>\n",
       "      <td>84.0</td>\n",
       "      <td>0</td>\n",
       "      <td>17</td>\n",
       "      <td>501.0</td>\n",
       "      <td>NaN</td>\n",
       "      <td>34.2009</td>\n",
       "      <td>-118.6369</td>\n",
       "    </tr>\n",
       "  </tbody>\n",
       "</table>\n",
       "</div>"
      ],
      "text/plain": [
       "   Month  Day  Year  Time Occurred  Area ID  Reporting District  Crime Code  \\\n",
       "0      3   11  2013           1800       12                1241         626   \n",
       "1      1   22  2010           2300       20                2071         510   \n",
       "2      3   18  2013           2030       18                1823         510   \n",
       "3     11   10  2010           1800       18                1803         510   \n",
       "4      1    4  2014           2300       21                2133         745   \n",
       "\n",
       "   Victim Age  Victim Sex  Victim Descent  Premise Code  Weapon Used Code  \\\n",
       "0        30.0           1              17         502.0             400.0   \n",
       "1         NaN           2               0         101.0               NaN   \n",
       "2        12.0           2               0         101.0               NaN   \n",
       "3         NaN           2               0         101.0               NaN   \n",
       "4        84.0           0              17         501.0               NaN   \n",
       "\n",
       "   Longitude  Latitude  \n",
       "0    33.9829 -118.3338  \n",
       "1    34.0454 -118.3157  \n",
       "2    33.9420 -118.2717  \n",
       "3    33.9572 -118.2717  \n",
       "4    34.2009 -118.6369  "
      ]
     },
     "execution_count": 7,
     "metadata": {},
     "output_type": "execute_result"
    }
   ],
   "source": [
    "# remove uneccesary columns\n",
    "data.drop(columns=['Unnamed: 0', 'DR Number'], inplace=True)\n",
    "data.head()"
   ]
  },
  {
   "cell_type": "code",
   "execution_count": 8,
   "metadata": {},
   "outputs": [
    {
     "data": {
      "text/html": [
       "<div>\n",
       "<style scoped>\n",
       "    .dataframe tbody tr th:only-of-type {\n",
       "        vertical-align: middle;\n",
       "    }\n",
       "\n",
       "    .dataframe tbody tr th {\n",
       "        vertical-align: top;\n",
       "    }\n",
       "\n",
       "    .dataframe thead th {\n",
       "        text-align: right;\n",
       "    }\n",
       "</style>\n",
       "<table border=\"1\" class=\"dataframe\">\n",
       "  <thead>\n",
       "    <tr style=\"text-align: right;\">\n",
       "      <th></th>\n",
       "      <th>Month</th>\n",
       "      <th>Day</th>\n",
       "      <th>Year</th>\n",
       "      <th>Time Occurred</th>\n",
       "      <th>Area ID</th>\n",
       "      <th>Reporting District</th>\n",
       "      <th>Crime Code</th>\n",
       "      <th>Victim Age</th>\n",
       "      <th>Victim Sex</th>\n",
       "      <th>Victim Descent</th>\n",
       "      <th>Premise Code</th>\n",
       "      <th>Weapon Used Code</th>\n",
       "      <th>Longitude</th>\n",
       "      <th>Latitude</th>\n",
       "    </tr>\n",
       "  </thead>\n",
       "  <tbody>\n",
       "    <tr>\n",
       "      <th>0</th>\n",
       "      <td>3</td>\n",
       "      <td>11</td>\n",
       "      <td>2013</td>\n",
       "      <td>1800</td>\n",
       "      <td>12</td>\n",
       "      <td>1241</td>\n",
       "      <td>626</td>\n",
       "      <td>30.0</td>\n",
       "      <td>1</td>\n",
       "      <td>17</td>\n",
       "      <td>502.0</td>\n",
       "      <td>400.0</td>\n",
       "      <td>33.9829</td>\n",
       "      <td>-118.3338</td>\n",
       "    </tr>\n",
       "    <tr>\n",
       "      <th>5</th>\n",
       "      <td>1</td>\n",
       "      <td>8</td>\n",
       "      <td>2013</td>\n",
       "      <td>1400</td>\n",
       "      <td>1</td>\n",
       "      <td>111</td>\n",
       "      <td>110</td>\n",
       "      <td>49.0</td>\n",
       "      <td>1</td>\n",
       "      <td>17</td>\n",
       "      <td>501.0</td>\n",
       "      <td>400.0</td>\n",
       "      <td>34.0591</td>\n",
       "      <td>-118.2412</td>\n",
       "    </tr>\n",
       "    <tr>\n",
       "      <th>16</th>\n",
       "      <td>1</td>\n",
       "      <td>2</td>\n",
       "      <td>2013</td>\n",
       "      <td>1420</td>\n",
       "      <td>1</td>\n",
       "      <td>174</td>\n",
       "      <td>624</td>\n",
       "      <td>23.0</td>\n",
       "      <td>0</td>\n",
       "      <td>7</td>\n",
       "      <td>102.0</td>\n",
       "      <td>400.0</td>\n",
       "      <td>34.0431</td>\n",
       "      <td>-118.2536</td>\n",
       "    </tr>\n",
       "    <tr>\n",
       "      <th>17</th>\n",
       "      <td>1</td>\n",
       "      <td>2</td>\n",
       "      <td>2013</td>\n",
       "      <td>1430</td>\n",
       "      <td>1</td>\n",
       "      <td>134</td>\n",
       "      <td>626</td>\n",
       "      <td>39.0</td>\n",
       "      <td>1</td>\n",
       "      <td>7</td>\n",
       "      <td>101.0</td>\n",
       "      <td>400.0</td>\n",
       "      <td>34.0503</td>\n",
       "      <td>-118.2504</td>\n",
       "    </tr>\n",
       "    <tr>\n",
       "      <th>18</th>\n",
       "      <td>1</td>\n",
       "      <td>2</td>\n",
       "      <td>2013</td>\n",
       "      <td>1500</td>\n",
       "      <td>1</td>\n",
       "      <td>185</td>\n",
       "      <td>624</td>\n",
       "      <td>18.0</td>\n",
       "      <td>1</td>\n",
       "      <td>7</td>\n",
       "      <td>406.0</td>\n",
       "      <td>400.0</td>\n",
       "      <td>34.0352</td>\n",
       "      <td>-118.2583</td>\n",
       "    </tr>\n",
       "  </tbody>\n",
       "</table>\n",
       "</div>"
      ],
      "text/plain": [
       "    Month  Day  Year  Time Occurred  Area ID  Reporting District  Crime Code  \\\n",
       "0       3   11  2013           1800       12                1241         626   \n",
       "5       1    8  2013           1400        1                 111         110   \n",
       "16      1    2  2013           1420        1                 174         624   \n",
       "17      1    2  2013           1430        1                 134         626   \n",
       "18      1    2  2013           1500        1                 185         624   \n",
       "\n",
       "    Victim Age  Victim Sex  Victim Descent  Premise Code  Weapon Used Code  \\\n",
       "0         30.0           1              17         502.0             400.0   \n",
       "5         49.0           1              17         501.0             400.0   \n",
       "16        23.0           0               7         102.0             400.0   \n",
       "17        39.0           1               7         101.0             400.0   \n",
       "18        18.0           1               7         406.0             400.0   \n",
       "\n",
       "    Longitude  Latitude  \n",
       "0     33.9829 -118.3338  \n",
       "5     34.0591 -118.2412  \n",
       "16    34.0431 -118.2536  \n",
       "17    34.0503 -118.2504  \n",
       "18    34.0352 -118.2583  "
      ]
     },
     "execution_count": 8,
     "metadata": {},
     "output_type": "execute_result"
    }
   ],
   "source": [
    "# remove NaN values\n",
    "#data.isnull().sum()\n",
    "#data = data.loc[data['Location '].notnull()]\n",
    "#print(data.groupby('Weapon Used Code')['DR Number'].nunique())\n",
    "data = data.dropna()\n",
    "#data.fillna(train.mean(), inplace=True)\n",
    "data.head()"
   ]
  },
  {
   "cell_type": "code",
   "execution_count": 11,
   "metadata": {},
   "outputs": [
    {
     "data": {
      "text/html": [
       "<div>\n",
       "<style scoped>\n",
       "    .dataframe tbody tr th:only-of-type {\n",
       "        vertical-align: middle;\n",
       "    }\n",
       "\n",
       "    .dataframe tbody tr th {\n",
       "        vertical-align: top;\n",
       "    }\n",
       "\n",
       "    .dataframe thead th {\n",
       "        text-align: right;\n",
       "    }\n",
       "</style>\n",
       "<table border=\"1\" class=\"dataframe\">\n",
       "  <thead>\n",
       "    <tr style=\"text-align: right;\">\n",
       "      <th></th>\n",
       "      <th>Month</th>\n",
       "      <th>Day</th>\n",
       "      <th>Year</th>\n",
       "      <th>Time Occurred</th>\n",
       "      <th>Area ID</th>\n",
       "      <th>Reporting District</th>\n",
       "      <th>Crime Code</th>\n",
       "      <th>Victim Age</th>\n",
       "      <th>Victim Sex</th>\n",
       "      <th>Victim Descent</th>\n",
       "      <th>Premise Code</th>\n",
       "      <th>Weapon Used Code</th>\n",
       "      <th>Longitude</th>\n",
       "      <th>Latitude</th>\n",
       "    </tr>\n",
       "  </thead>\n",
       "  <tbody>\n",
       "    <tr>\n",
       "      <th>0</th>\n",
       "      <td>3</td>\n",
       "      <td>11</td>\n",
       "      <td>2013</td>\n",
       "      <td>1800</td>\n",
       "      <td>12</td>\n",
       "      <td>1241</td>\n",
       "      <td>626</td>\n",
       "      <td>30.0</td>\n",
       "      <td>1</td>\n",
       "      <td>17</td>\n",
       "      <td>502.0</td>\n",
       "      <td>400.0</td>\n",
       "      <td>33.9829</td>\n",
       "      <td>-118.3338</td>\n",
       "    </tr>\n",
       "    <tr>\n",
       "      <th>1</th>\n",
       "      <td>1</td>\n",
       "      <td>8</td>\n",
       "      <td>2013</td>\n",
       "      <td>1400</td>\n",
       "      <td>1</td>\n",
       "      <td>111</td>\n",
       "      <td>110</td>\n",
       "      <td>49.0</td>\n",
       "      <td>1</td>\n",
       "      <td>17</td>\n",
       "      <td>501.0</td>\n",
       "      <td>400.0</td>\n",
       "      <td>34.0591</td>\n",
       "      <td>-118.2412</td>\n",
       "    </tr>\n",
       "    <tr>\n",
       "      <th>2</th>\n",
       "      <td>1</td>\n",
       "      <td>2</td>\n",
       "      <td>2013</td>\n",
       "      <td>1420</td>\n",
       "      <td>1</td>\n",
       "      <td>174</td>\n",
       "      <td>624</td>\n",
       "      <td>23.0</td>\n",
       "      <td>0</td>\n",
       "      <td>7</td>\n",
       "      <td>102.0</td>\n",
       "      <td>400.0</td>\n",
       "      <td>34.0431</td>\n",
       "      <td>-118.2536</td>\n",
       "    </tr>\n",
       "    <tr>\n",
       "      <th>3</th>\n",
       "      <td>1</td>\n",
       "      <td>2</td>\n",
       "      <td>2013</td>\n",
       "      <td>1430</td>\n",
       "      <td>1</td>\n",
       "      <td>134</td>\n",
       "      <td>626</td>\n",
       "      <td>39.0</td>\n",
       "      <td>1</td>\n",
       "      <td>7</td>\n",
       "      <td>101.0</td>\n",
       "      <td>400.0</td>\n",
       "      <td>34.0503</td>\n",
       "      <td>-118.2504</td>\n",
       "    </tr>\n",
       "    <tr>\n",
       "      <th>4</th>\n",
       "      <td>1</td>\n",
       "      <td>2</td>\n",
       "      <td>2013</td>\n",
       "      <td>1500</td>\n",
       "      <td>1</td>\n",
       "      <td>185</td>\n",
       "      <td>624</td>\n",
       "      <td>18.0</td>\n",
       "      <td>1</td>\n",
       "      <td>7</td>\n",
       "      <td>406.0</td>\n",
       "      <td>400.0</td>\n",
       "      <td>34.0352</td>\n",
       "      <td>-118.2583</td>\n",
       "    </tr>\n",
       "  </tbody>\n",
       "</table>\n",
       "</div>"
      ],
      "text/plain": [
       "   Month  Day  Year  Time Occurred  Area ID  Reporting District  Crime Code  \\\n",
       "0      3   11  2013           1800       12                1241         626   \n",
       "1      1    8  2013           1400        1                 111         110   \n",
       "2      1    2  2013           1420        1                 174         624   \n",
       "3      1    2  2013           1430        1                 134         626   \n",
       "4      1    2  2013           1500        1                 185         624   \n",
       "\n",
       "   Victim Age  Victim Sex  Victim Descent  Premise Code  Weapon Used Code  \\\n",
       "0        30.0           1              17         502.0             400.0   \n",
       "1        49.0           1              17         501.0             400.0   \n",
       "2        23.0           0               7         102.0             400.0   \n",
       "3        39.0           1               7         101.0             400.0   \n",
       "4        18.0           1               7         406.0             400.0   \n",
       "\n",
       "   Longitude  Latitude  \n",
       "0    33.9829 -118.3338  \n",
       "1    34.0591 -118.2412  \n",
       "2    34.0431 -118.2536  \n",
       "3    34.0503 -118.2504  \n",
       "4    34.0352 -118.2583  "
      ]
     },
     "execution_count": 11,
     "metadata": {},
     "output_type": "execute_result"
    }
   ],
   "source": [
    "# reset the index and remove unnecessary columns\n",
    "data.reset_index(inplace=True)\n",
    "data.drop(columns=['level_0', 'index'], inplace=True)\n",
    "#data.drop(columns=['index'], inplace=True)\n",
    "data.head()"
   ]
  },
  {
   "cell_type": "markdown",
   "metadata": {},
   "source": [
    "# 2 Visualize data"
   ]
  },
  {
   "cell_type": "code",
   "execution_count": 12,
   "metadata": {},
   "outputs": [
    {
     "data": {
      "text/plain": [
       "<mpl_toolkits.mplot3d.art3d.Path3DCollection at 0x1a378af400>"
      ]
     },
     "execution_count": 12,
     "metadata": {},
     "output_type": "execute_result"
    },
    {
     "data": {
      "image/png": "[encoded data removed]",
      "text/plain": [
       "<Figure size 432x288 with 1 Axes>"
      ]
     },
     "metadata": {
      "needs_background": "light"
     },
     "output_type": "display_data"
    }
   ],
   "source": [
    "from mpl_toolkits.mplot3d import Axes3D\n",
    "\n",
    "fig = plt.figure()\n",
    "ax = fig.add_subplot(111, projection='3d')\n",
    "xs = data['Victim Age']\n",
    "ys = data['Victim Sex']\n",
    "zs = data['Victim Descent']\n",
    "\n",
    "ax.scatter(xs, ys, zs, edgecolor='k')"
   ]
  },
  {
   "cell_type": "code",
   "execution_count": 13,
   "metadata": {},
   "outputs": [
    {
     "data": {
      "image/png": "[encoded data removed]",
      "text/plain": [
       "<Figure size 1600x240 with 2 Axes>"
      ]
     },
     "metadata": {
      "needs_background": "light"
     },
     "output_type": "display_data"
    }
   ],
   "source": [
    "x = data['Victim Age']\n",
    "y = data['Victim Sex']\n",
    "\n",
    "plt.figure(figsize=(20, 3), dpi=80)\n",
    "plt.hist2d(x, y, (50, 3), cmap=plt.cm.jet)\n",
    "plt.colorbar()\n",
    "plt.show()"
   ]
  },
  {
   "cell_type": "code",
   "execution_count": 14,
   "metadata": {},
   "outputs": [
    {
     "data": {
      "image/png": "[encoded data removed]",
      "text/plain": [
       "<Figure size 1600x240 with 2 Axes>"
      ]
     },
     "metadata": {
      "needs_background": "light"
     },
     "output_type": "display_data"
    }
   ],
   "source": [
    "x = data['Victim Age']\n",
    "y = data['Victim Descent']\n",
    "\n",
    "plt.figure(figsize=(20, 3), dpi=80)\n",
    "plt.hist2d(x, y, (50, 18), cmap=plt.cm.jet)\n",
    "plt.colorbar()\n",
    "plt.show()"
   ]
  },
  {
   "cell_type": "code",
   "execution_count": 15,
   "metadata": {},
   "outputs": [
    {
     "data": {
      "image/png": "[encoded data removed]",
      "text/plain": [
       "<Figure size 1600x240 with 2 Axes>"
      ]
     },
     "metadata": {
      "needs_background": "light"
     },
     "output_type": "display_data"
    }
   ],
   "source": [
    "x = data['Victim Descent']\n",
    "y = data['Victim Sex']\n",
    "\n",
    "plt.figure(figsize=(20, 3), dpi=80)\n",
    "plt.hist2d(x, y, (18, 3), cmap=plt.cm.jet)\n",
    "plt.colorbar()\n",
    "plt.show()"
   ]
  },
  {
   "cell_type": "markdown",
   "metadata": {},
   "source": [
    "# 3 Run K-means"
   ]
  },
  {
   "cell_type": "code",
   "execution_count": 16,
   "metadata": {},
   "outputs": [],
   "source": [
    "# Extra Code stuff\n",
    "#clust1 = data[data['Cluster Label'] == 1].groupby('Victim Sex')['Time Occurred'].nunique()\n",
    "#myKMeans.predict(data.iloc[:,:-1][data.index == 0])\n",
    "#data.iloc[:,:-1][data.index == 0]"
   ]
  },
  {
   "cell_type": "code",
   "execution_count": 54,
   "metadata": {},
   "outputs": [
    {
     "data": {
      "text/plain": [
       "KMeans(algorithm='auto', copy_x=True, init='k-means++', max_iter=300,\n",
       "    n_clusters=5, n_init=10, n_jobs=None, precompute_distances='auto',\n",
       "    random_state=None, tol=0.0001, verbose=0)"
      ]
     },
     "execution_count": 54,
     "metadata": {},
     "output_type": "execute_result"
    }
   ],
   "source": [
    "myKMeans = KMeans(n_clusters=5)\n",
    "\n",
    "'''myKMeans.fit(data[['Month', 'Day', 'Year', 'Time Occurred',\n",
    "       'Area ID', 'Reporting District', 'Victim Age',\n",
    "       'Victim Sex', 'Victim Descent', 'Premise Code',\n",
    "       'Longitude', 'Latitude']]'''\n",
    "\n",
    "myKMeans.fit(data[['Victim Age', 'Victim Sex', 'Victim Descent']])"
   ]
  },
  {
   "cell_type": "code",
   "execution_count": 55,
   "metadata": {},
   "outputs": [],
   "source": [
    "#predicted_labels = myKMeans.predict(X_test[['Victim Age', 'Victim Sex', 'Victim Descent']])"
   ]
  },
  {
   "cell_type": "code",
   "execution_count": 56,
   "metadata": {},
   "outputs": [],
   "source": [
    "# Predict cluster based on Demographics\n",
    "#myDemo = [[3, 11, 2013, 1800, 12, 1241, 26, 0, 17, 502.0, 33.9829, -118.3338]]\n",
    "myDemo = [[26, 0, 17]]\n",
    "myLabel = myKMeans.predict(myDemo)"
   ]
  },
  {
   "cell_type": "code",
   "execution_count": 57,
   "metadata": {},
   "outputs": [],
   "source": [
    "data['Cluster Label'] = myKMeans.labels_"
   ]
  },
  {
   "cell_type": "code",
   "execution_count": 58,
   "metadata": {},
   "outputs": [
    {
     "name": "stdout",
     "output_type": "stream",
     "text": [
      "Month 7\n",
      "Day 6\n",
      "Year 2016\n",
      "Time Occurred 1\n",
      "Area ID 14\n",
      "Reporting District 646\n",
      "Crime Code 624\n",
      "Victim Age 35.0\n",
      "Victim Sex 0\n",
      "Victim Descent 17\n",
      "Premise Code 101.0\n",
      "Weapon Used Code 400.0\n",
      "Longitude 34.1016\n",
      "Latitude -118.3387\n",
      "Cluster Label 3\n"
     ]
    }
   ],
   "source": [
    "# myDemo cluster means\n",
    "for i in data.columns:\n",
    "    clust = data[data['Cluster Label'] == myLabel[0]].groupby(i)['Time Occurred'].nunique()\n",
    "    m = clust.idxmax()\n",
    "    #m = clust.index(clust.mean())\n",
    "    #display(clust)\n",
    "    #print(m)\n",
    "    #break\n",
    "    print(i, m)"
   ]
  },
  {
   "cell_type": "code",
   "execution_count": 39,
   "metadata": {},
   "outputs": [
    {
     "data": {
      "text/plain": [
       "11917892.481355228"
      ]
     },
     "execution_count": 39,
     "metadata": {},
     "output_type": "execute_result"
    }
   ],
   "source": [
    "myKMeans.inertia_"
   ]
  },
  {
   "cell_type": "code",
   "execution_count": 52,
   "metadata": {},
   "outputs": [],
   "source": [
    "# Find lowest value for k that minimizes the inertia\n",
    "inertia = []\n",
    "\n",
    "for i in range(2, 20):\n",
    "    myKMeans = KMeans(n_clusters=i)\n",
    "    myKMeans.fit(data[['Victim Age', 'Victim Sex', 'Victim Descent']])\n",
    "    inertia.append(myKMeans.inertia_)"
   ]
  },
  {
   "cell_type": "code",
   "execution_count": 53,
   "metadata": {},
   "outputs": [
    {
     "data": {
      "image/png": "[encoded data removed]",
      "text/plain": [
       "<Figure size 432x288 with 1 Axes>"
      ]
     },
     "metadata": {
      "needs_background": "light"
     },
     "output_type": "display_data"
    }
   ],
   "source": [
    "plt.plot(inertia)\n",
    "plt.xticks(range(0, 20))\n",
    "plt.show()"
   ]
  },
  {
   "cell_type": "code",
   "execution_count": null,
   "metadata": {},
   "outputs": [],
   "source": []
  }
 ],
 "metadata": {
  "kernelspec": {
   "display_name": "Python 3",
   "language": "python",
   "name": "python3"
  },
  "language_info": {
   "codemirror_mode": {
    "name": "ipython",
    "version": 3
   },
   "file_extension": ".py",
   "mimetype": "text/x-python",
   "name": "python",
   "nbconvert_exporter": "python",
   "pygments_lexer": "ipython3",
   "version": "3.7.1"
  }
 },
 "nbformat": 4,
 "nbformat_minor": 2
}
